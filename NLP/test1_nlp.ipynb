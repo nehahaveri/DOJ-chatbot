{
 "cells": [
  {
   "cell_type": "code",
   "execution_count": 1,
   "metadata": {},
   "outputs": [],
   "source": [
    "import spacy"
   ]
  },
  {
   "cell_type": "code",
   "execution_count": 2,
   "metadata": {},
   "outputs": [],
   "source": [
    "nlp = spacy.load('en_core_web_sm')"
   ]
  },
  {
   "cell_type": "code",
   "execution_count": 3,
   "metadata": {},
   "outputs": [
    {
     "name": "stderr",
     "output_type": "stream",
     "text": [
      "<>:1: SyntaxWarning: invalid escape sequence '\\d'\n",
      "<>:1: SyntaxWarning: invalid escape sequence '\\d'\n",
      "C:\\Users\\Amogh\\AppData\\Local\\Temp\\ipykernel_27288\\269841847.py:1: SyntaxWarning: invalid escape sequence '\\d'\n",
      "  with open('data\\data_text.txt', 'r') as f:\n"
     ]
    }
   ],
   "source": [
    "with open('data\\data_text.txt', 'r') as f:\n",
    "    text = f.read()"
   ]
  },
  {
   "cell_type": "code",
   "execution_count": 4,
   "metadata": {},
   "outputs": [],
   "source": [
    "doc = nlp(text)"
   ]
  },
  {
   "cell_type": "code",
   "execution_count": 5,
   "metadata": {},
   "outputs": [
    {
     "name": "stdout",
     "output_type": "stream",
     "text": [
      "T\n",
      "h\n",
      "e\n",
      " \n",
      "U\n",
      "n\n",
      "i\n",
      "t\n",
      "e\n",
      "d\n"
     ]
    }
   ],
   "source": [
    "for i in text[0:10]:\n",
    "    print(i)"
   ]
  },
  {
   "cell_type": "code",
   "execution_count": 6,
   "metadata": {},
   "outputs": [
    {
     "name": "stdout",
     "output_type": "stream",
     "text": [
      "The\n",
      "United\n",
      "States\n",
      "of\n",
      "America\n",
      "(\n",
      "USA\n",
      "or\n",
      "U.S.A.\n",
      ")\n"
     ]
    }
   ],
   "source": [
    "for i in doc[0:10]:\n",
    "    print(i)"
   ]
  },
  {
   "cell_type": "code",
   "execution_count": 7,
   "metadata": {},
   "outputs": [
    {
     "data": {
      "text/plain": [
       "The United States of America (USA or U.S.A.), commonly known as the United States (US or U.S.) or America, is a country primarily located in North America."
      ]
     },
     "execution_count": 7,
     "metadata": {},
     "output_type": "execute_result"
    }
   ],
   "source": [
    "senetence1 = list(doc.sents)[0]\n",
    "senetence1"
   ]
  },
  {
   "cell_type": "code",
   "execution_count": 8,
   "metadata": {},
   "outputs": [
    {
     "data": {
      "text/plain": [
       "United"
      ]
     },
     "execution_count": 8,
     "metadata": {},
     "output_type": "execute_result"
    }
   ],
   "source": [
    "token = senetence1[1]\n",
    "token"
   ]
  },
  {
   "cell_type": "code",
   "execution_count": 9,
   "metadata": {},
   "outputs": [
    {
     "data": {
      "text/plain": [
       "States"
      ]
     },
     "execution_count": 9,
     "metadata": {},
     "output_type": "execute_result"
    }
   ],
   "source": [
    "token2 = senetence1[2]\n",
    "token2"
   ]
  },
  {
   "cell_type": "code",
   "execution_count": 10,
   "metadata": {},
   "outputs": [
    {
     "data": {
      "text/plain": [
       "America"
      ]
     },
     "execution_count": 10,
     "metadata": {},
     "output_type": "execute_result"
    }
   ],
   "source": [
    "token2.right_edge"
   ]
  },
  {
   "cell_type": "code",
   "execution_count": 11,
   "metadata": {},
   "outputs": [
    {
     "name": "stdout",
     "output_type": "stream",
     "text": [
      "The United States of America GPE\n",
      "USA GPE\n",
      "U.S.A. GPE\n",
      "the United States GPE\n",
      "US GPE\n",
      "U.S. GPE\n",
      "America GPE\n",
      "North America LOC\n",
      "50 CARDINAL\n",
      "Washington GPE\n",
      "D.C. GPE\n",
      "326 CARDINAL\n",
      "Indian NORP\n",
      "48 CARDINAL\n",
      "Canada GPE\n",
      "Mexico GPE\n",
      "Alaska GPE\n",
      "the State of Hawaii GPE\n",
      "the Pacific Ocean LOC\n",
      "The United States GPE\n",
      "five CARDINAL\n",
      "third ORDINAL\n",
      "second ORDINAL\n",
      "third ORDINAL\n",
      "334 CARDINAL\n",
      "Paleo-Indians NORP\n",
      "more than 12,000 years ago DATE\n",
      "British NORP\n",
      "first ORDINAL\n",
      "the Thirteen Colonies ORG\n",
      "Virginia GPE\n",
      "1607 DATE\n",
      "British NORP\n",
      "Crown PRODUCT\n",
      "the American Revolution EVENT\n",
      "Second ORDINAL\n",
      "July 4, 1776 DATE\n",
      "Revolutionary War EVENT\n",
      "North America LOC\n",
      "North-South LOC\n",
      "the Confederate States of America GPE\n",
      "American Civil War EVENT\n",
      "Union ORG\n",
      "1890 DATE\n",
      "the United States GPE\n",
      "Japan GPE\n",
      "Pearl Harbor FAC\n",
      "December 1941 DATE\n",
      "U.S. GPE\n",
      "World War II EVENT\n",
      "U.S. GPE\n",
      "the Soviet Union GPE\n",
      "two CARDINAL\n",
      "the Cold War EVENT\n",
      "the Soviet Union's GPE\n",
      "the Cold War EVENT\n",
      "1991 DATE\n",
      "U.S. GPE\n",
      "U.S. GPE\n",
      "three CARDINAL\n",
      "the House of Representatives ORG\n",
      "Senate ORG\n",
      "One CARDINAL\n",
      "the United States GPE\n",
      "15% PERCENT\n",
      "2023.[m CARDINAL\n",
      "OECD ORG\n",
      "U.S. GPE\n",
      "U.S. GPE\n",
      "the World Bank ORG\n",
      "Organization of American States ORG\n",
      "NATO ORG\n",
      "United Nations,[n ORG\n",
      "UN ORG\n"
     ]
    }
   ],
   "source": [
    "for ent in doc.ents:\n",
    "    print(ent.text, ent.label_)"
   ]
  },
  {
   "cell_type": "code",
   "execution_count": 13,
   "metadata": {},
   "outputs": [
    {
     "name": "stdout",
     "output_type": "stream",
     "text": [
      "0.06241874107998221\n"
     ]
    },
    {
     "name": "stderr",
     "output_type": "stream",
     "text": [
      "C:\\Users\\Amogh\\AppData\\Local\\Temp\\ipykernel_27288\\1536398484.py:3: UserWarning: [W007] The model you're using has no word vectors loaded, so the result of the Doc.similarity method will be based on the tagger, parser and NER, which may not give useful similarity judgements. This may happen if you're using one of the small models, e.g. `en_core_web_sm`, which don't ship with word vectors and only use context-sensitive tensors. You can always add your own word vectors, or use one of the larger models instead if available.\n",
      "  print(doc1.similarity(doc2))\n"
     ]
    }
   ],
   "source": [
    "doc1 = nlp('I like fries and burgers')\n",
    "doc2 = nlp('Fast food tastes very good')\n",
    "print(doc1.similarity(doc2))"
   ]
  },
  {
   "cell_type": "code",
   "execution_count": 14,
   "metadata": {},
   "outputs": [
    {
     "data": {
      "text/plain": [
       "[('tok2vec', <spacy.pipeline.tok2vec.Tok2Vec at 0x204a16182f0>),\n",
       " ('tagger', <spacy.pipeline.tagger.Tagger at 0x204a3fcee70>),\n",
       " ('parser', <spacy.pipeline.dep_parser.DependencyParser at 0x204a402d230>),\n",
       " ('attribute_ruler',\n",
       "  <spacy.pipeline.attributeruler.AttributeRuler at 0x204a42e7490>),\n",
       " ('lemmatizer', <spacy.lang.en.lemmatizer.EnglishLemmatizer at 0x204a427a690>),\n",
       " ('ner', <spacy.pipeline.ner.EntityRecognizer at 0x204a402d070>)]"
      ]
     },
     "execution_count": 14,
     "metadata": {},
     "output_type": "execute_result"
    }
   ],
   "source": [
    "nlp.pipeline"
   ]
  },
  {
   "cell_type": "code",
   "execution_count": 16,
   "metadata": {},
   "outputs": [
    {
     "data": {
      "text/plain": [
       "['tok2vec', 'tagger', 'parser', 'attribute_ruler', 'lemmatizer', 'ner']"
      ]
     },
     "execution_count": 16,
     "metadata": {},
     "output_type": "execute_result"
    }
   ],
   "source": [
    "nlp.pipe_names"
   ]
  },
  {
   "cell_type": "code",
   "execution_count": 17,
   "metadata": {},
   "outputs": [
    {
     "data": {
      "text/plain": [
       "'nominal subject'"
      ]
     },
     "execution_count": 17,
     "metadata": {},
     "output_type": "execute_result"
    }
   ],
   "source": [
    "spacy.explain('nsubj')"
   ]
  },
  {
   "cell_type": "code",
   "execution_count": 18,
   "metadata": {},
   "outputs": [],
   "source": [
    "doc5  = nlp('Lets visit St.louis in U.S. next year.')"
   ]
  },
  {
   "cell_type": "code",
   "execution_count": 26,
   "metadata": {},
   "outputs": [
    {
     "name": "stdout",
     "output_type": "stream",
     "text": [
      "The United States of America\n",
      "GPE\n",
      "Countries, cities, states\n",
      "USA\n",
      "GPE\n",
      "Countries, cities, states\n",
      "U.S.A.\n",
      "GPE\n",
      "Countries, cities, states\n",
      "the United States\n",
      "GPE\n",
      "Countries, cities, states\n",
      "US\n",
      "GPE\n",
      "Countries, cities, states\n",
      "U.S.\n",
      "GPE\n",
      "Countries, cities, states\n",
      "America\n",
      "GPE\n",
      "Countries, cities, states\n",
      "North America\n",
      "LOC\n",
      "Non-GPE locations, mountain ranges, bodies of water\n",
      "50\n",
      "CARDINAL\n",
      "Numerals that do not fall under another type\n",
      "Washington\n",
      "GPE\n",
      "Countries, cities, states\n",
      "D.C.\n",
      "GPE\n",
      "Countries, cities, states\n",
      "326\n",
      "CARDINAL\n",
      "Numerals that do not fall under another type\n",
      "Indian\n",
      "NORP\n",
      "Nationalities or religious or political groups\n",
      "48\n",
      "CARDINAL\n",
      "Numerals that do not fall under another type\n",
      "Canada\n",
      "GPE\n",
      "Countries, cities, states\n",
      "Mexico\n",
      "GPE\n",
      "Countries, cities, states\n",
      "Alaska\n",
      "GPE\n",
      "Countries, cities, states\n",
      "the State of Hawaii\n",
      "GPE\n",
      "Countries, cities, states\n",
      "the Pacific Ocean\n",
      "LOC\n",
      "Non-GPE locations, mountain ranges, bodies of water\n",
      "The United States\n",
      "GPE\n",
      "Countries, cities, states\n",
      "five\n",
      "CARDINAL\n",
      "Numerals that do not fall under another type\n",
      "third\n",
      "ORDINAL\n",
      "\"first\", \"second\", etc.\n",
      "second\n",
      "ORDINAL\n",
      "\"first\", \"second\", etc.\n",
      "third\n",
      "ORDINAL\n",
      "\"first\", \"second\", etc.\n",
      "334\n",
      "CARDINAL\n",
      "Numerals that do not fall under another type\n",
      "Paleo-Indians\n",
      "NORP\n",
      "Nationalities or religious or political groups\n",
      "more than 12,000 years ago\n",
      "DATE\n",
      "Absolute or relative dates or periods\n",
      "British\n",
      "NORP\n",
      "Nationalities or religious or political groups\n",
      "first\n",
      "ORDINAL\n",
      "\"first\", \"second\", etc.\n",
      "the Thirteen Colonies\n",
      "ORG\n",
      "Companies, agencies, institutions, etc.\n",
      "Virginia\n",
      "GPE\n",
      "Countries, cities, states\n",
      "1607\n",
      "DATE\n",
      "Absolute or relative dates or periods\n",
      "British\n",
      "NORP\n",
      "Nationalities or religious or political groups\n",
      "Crown\n",
      "PRODUCT\n",
      "Objects, vehicles, foods, etc. (not services)\n",
      "the American Revolution\n",
      "EVENT\n",
      "Named hurricanes, battles, wars, sports events, etc.\n",
      "Second\n",
      "ORDINAL\n",
      "\"first\", \"second\", etc.\n",
      "July 4, 1776\n",
      "DATE\n",
      "Absolute or relative dates or periods\n",
      "Revolutionary War\n",
      "EVENT\n",
      "Named hurricanes, battles, wars, sports events, etc.\n",
      "North America\n",
      "LOC\n",
      "Non-GPE locations, mountain ranges, bodies of water\n",
      "North-South\n",
      "LOC\n",
      "Non-GPE locations, mountain ranges, bodies of water\n",
      "the Confederate States of America\n",
      "GPE\n",
      "Countries, cities, states\n",
      "American Civil War\n",
      "EVENT\n",
      "Named hurricanes, battles, wars, sports events, etc.\n",
      "Union\n",
      "ORG\n",
      "Companies, agencies, institutions, etc.\n",
      "1890\n",
      "DATE\n",
      "Absolute or relative dates or periods\n",
      "the United States\n",
      "GPE\n",
      "Countries, cities, states\n",
      "Japan\n",
      "GPE\n",
      "Countries, cities, states\n",
      "Pearl Harbor\n",
      "FAC\n",
      "Buildings, airports, highways, bridges, etc.\n",
      "December 1941\n",
      "DATE\n",
      "Absolute or relative dates or periods\n",
      "U.S.\n",
      "GPE\n",
      "Countries, cities, states\n",
      "World War II\n",
      "EVENT\n",
      "Named hurricanes, battles, wars, sports events, etc.\n",
      "U.S.\n",
      "GPE\n",
      "Countries, cities, states\n",
      "the Soviet Union\n",
      "GPE\n",
      "Countries, cities, states\n",
      "two\n",
      "CARDINAL\n",
      "Numerals that do not fall under another type\n",
      "the Cold War\n",
      "EVENT\n",
      "Named hurricanes, battles, wars, sports events, etc.\n",
      "the Soviet Union's\n",
      "GPE\n",
      "Countries, cities, states\n",
      "the Cold War\n",
      "EVENT\n",
      "Named hurricanes, battles, wars, sports events, etc.\n",
      "1991\n",
      "DATE\n",
      "Absolute or relative dates or periods\n",
      "U.S.\n",
      "GPE\n",
      "Countries, cities, states\n",
      "U.S.\n",
      "GPE\n",
      "Countries, cities, states\n",
      "three\n",
      "CARDINAL\n",
      "Numerals that do not fall under another type\n",
      "the House of Representatives\n",
      "ORG\n",
      "Companies, agencies, institutions, etc.\n",
      "Senate\n",
      "ORG\n",
      "Companies, agencies, institutions, etc.\n",
      "One\n",
      "CARDINAL\n",
      "Numerals that do not fall under another type\n",
      "the United States\n",
      "GPE\n",
      "Countries, cities, states\n",
      "15%\n",
      "PERCENT\n",
      "Percentage, including \"%\"\n",
      "2023.[m\n",
      "CARDINAL\n",
      "Numerals that do not fall under another type\n",
      "OECD\n",
      "ORG\n",
      "Companies, agencies, institutions, etc.\n",
      "U.S.\n",
      "GPE\n",
      "Countries, cities, states\n",
      "U.S.\n",
      "GPE\n",
      "Countries, cities, states\n",
      "the World Bank\n",
      "ORG\n",
      "Companies, agencies, institutions, etc.\n",
      "Organization of American States\n",
      "ORG\n",
      "Companies, agencies, institutions, etc.\n",
      "NATO\n",
      "ORG\n",
      "Companies, agencies, institutions, etc.\n",
      "United Nations,[n\n",
      "ORG\n",
      "Companies, agencies, institutions, etc.\n",
      "UN\n",
      "ORG\n",
      "Companies, agencies, institutions, etc.\n"
     ]
    }
   ],
   "source": [
    "doc6 = nlp('Apple has mad $6 million in hong kong')\n",
    "for entity in doc.ents:\n",
    "    print(entity)\n",
    "    print(entity.label_)\n",
    "    print(str(spacy.explain(entity.label_)))"
   ]
  }
 ],
 "metadata": {
  "kernelspec": {
   "display_name": ".venv",
   "language": "python",
   "name": "python3"
  },
  "language_info": {
   "codemirror_mode": {
    "name": "ipython",
    "version": 3
   },
   "file_extension": ".py",
   "mimetype": "text/x-python",
   "name": "python",
   "nbconvert_exporter": "python",
   "pygments_lexer": "ipython3",
   "version": "3.12.4"
  }
 },
 "nbformat": 4,
 "nbformat_minor": 2
}
