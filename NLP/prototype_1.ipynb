{
 "cells": [
  {
   "cell_type": "code",
   "execution_count": 109,
   "metadata": {},
   "outputs": [],
   "source": [
    "import nltk\n",
    "import random\n",
    "import string \n",
    "import numpy as np\n",
    "count = 0"
   ]
  },
  {
   "cell_type": "code",
   "execution_count": 110,
   "metadata": {},
   "outputs": [],
   "source": [
    "f = open('data/P_R_data.txt', 'r', errors='ignore')\n",
    "raw_doc = f.read()"
   ]
  },
  {
   "cell_type": "code",
   "execution_count": 111,
   "metadata": {},
   "outputs": [
    {
     "name": "stderr",
     "output_type": "stream",
     "text": [
      "[nltk_data] Downloading package punkt to\n",
      "[nltk_data]     C:\\Users\\Amogh\\AppData\\Roaming\\nltk_data...\n",
      "[nltk_data]   Package punkt is already up-to-date!\n",
      "[nltk_data] Downloading package wordnet to\n",
      "[nltk_data]     C:\\Users\\Amogh\\AppData\\Roaming\\nltk_data...\n",
      "[nltk_data]   Package wordnet is already up-to-date!\n",
      "[nltk_data] Downloading package omw-1.4 to\n",
      "[nltk_data]     C:\\Users\\Amogh\\AppData\\Roaming\\nltk_data...\n",
      "[nltk_data]   Package omw-1.4 is already up-to-date!\n"
     ]
    }
   ],
   "source": [
    "raw_doc = raw_doc.lower()\n",
    "nltk.download('punkt')\n",
    "nltk.download('wordnet')\n",
    "nltk.download('omw-1.4')\n",
    "sentence_token  = nltk.sent_tokenize(raw_doc)\n",
    "word_token = nltk.word_tokenize(raw_doc)"
   ]
  },
  {
   "cell_type": "code",
   "execution_count": 112,
   "metadata": {},
   "outputs": [],
   "source": [
    "lemmer = nltk.stem.WordNetLemmatizer()\n",
    "def LemTokens(tokens):\n",
    "    return [lemmer.lemmatize(token) for token in tokens]\n",
    "\n",
    "remove_punc_dict = dict((ord(punct), None) for punct in string.punctuation)\n",
    "\n",
    "def LemNormalize(text):\n",
    "    return LemTokens(nltk.word_tokenize(text.lower().translate(remove_punc_dict)))"
   ]
  },
  {
   "cell_type": "code",
   "execution_count": 113,
   "metadata": {},
   "outputs": [],
   "source": [
    "greeting_inputs = ('hello','hi','how are you', 'hola', 'yo', 'wassup')\n",
    "greeting_ouputs = ('hi!', 'Hey!', 'Hello there!', 'Nice to meet you')\n",
    "def greet(sentence):\n",
    "    for word in sentence.split():\n",
    "        if word.lower() in greeting_inputs:\n",
    "            return random.choice(greeting_ouputs) "
   ]
  },
  {
   "cell_type": "code",
   "execution_count": 114,
   "metadata": {},
   "outputs": [],
   "source": [
    "from sklearn.feature_extraction.text import TfidfVectorizer\n",
    "from sklearn.metrics.pairwise import cosine_similarity"
   ]
  },
  {
   "cell_type": "code",
   "execution_count": 115,
   "metadata": {},
   "outputs": [],
   "source": [
    "sorry_response = (\"I am  sorry, I wasn't able to understand you\", \"I am sorry, I didn't get you\")\n",
    "def response(user_response):\n",
    "    robot_resp = ''\n",
    "    TfidVec = TfidfVectorizer(tokenizer=LemNormalize, stop_words='english')\n",
    "    tfidf = TfidVec.fit_transform(sentence_token)\n",
    "    vals = cosine_similarity(tfidf[-1], tfidf)\n",
    "    idx = vals.argsort()[0][-2]\n",
    "    flat = vals.flatten()\n",
    "    flat.sort()\n",
    "    req_tfidf = flat[-2]\n",
    "    if (req_tfidf == 0):\n",
    "        robot_resp = robot_resp + random.choice(sorry_response)\n",
    "    else:\n",
    "        robot_resp = robot_resp + sentence_token[idx]\n",
    "        return robot_resp"
   ]
  },
  {
   "cell_type": "code",
   "execution_count": 116,
   "metadata": {},
   "outputs": [
    {
     "name": "stdout",
     "output_type": "stream",
     "text": [
      "Hello! I am DOJ assistant, I am here to help you\n",
      "You: what is pocso\n",
      "Bot: need of the pocso act, 2012\n",
      "\n",
      "pocso stands for, the protection of children from sexual offences act, 2012 [pocso act, 2012] is legislation which aims at protecting children from all types of sexual abuse.\n",
      "You: under what age the pocso is applicable\n",
      "Bot: this implies that offences perpetrated against anyone of the age less than eighteen years are punishable under the pocso act.\n",
      "You: for how long will the accused be in imprisonment\n",
      "Bot: the punishment for the commission of offences against children ranging from a minimum of 20 years of imprisonment to the death penalty in case of aggravated penetrative sexual assault.\n",
      "You: what are the cases\n",
      "Bot: mandatory reporting of child abuse cases: sexual abuse cases happen behind closed doors and the elders attempt to hide these incidents due to the stigma that is attached to these crimes.\n",
      "You: hi\n",
      "Bot: hi!\n"
     ]
    }
   ],
   "source": [
    "flag  = True\n",
    "print(\"Hello! I am DOJ assistant, I am here to help you\")\n",
    "while(flag == True):\n",
    "    user_response = input()\n",
    "    print(f'You: {user_response}')\n",
    "    user_response = user_response.lower()\n",
    "    if user_response != 'bye':\n",
    "        if user_response == 'thank you' or user_response == 'thanks':\n",
    "            flag = False\n",
    "            print(\"Bot: My pleasure\")\n",
    "        else:\n",
    "            if greet(user_response) != None:\n",
    "                print('Bot: '+ greet(user_response))\n",
    "            else:\n",
    "                sentence_token.append(user_response)\n",
    "                word_token = word_token + nltk.word_tokenize(user_response)\n",
    "                final_words = list(set(word_token))\n",
    "                print('Bot: ', end = '')\n",
    "                print(response(user_response))\n",
    "                sentence_token.remove(user_response)\n",
    "    else:\n",
    "        flag = False\n",
    "        print('Bot: Goodbye!')"
   ]
  }
 ],
 "metadata": {
  "kernelspec": {
   "display_name": ".venv",
   "language": "python",
   "name": "python3"
  },
  "language_info": {
   "codemirror_mode": {
    "name": "ipython",
    "version": 3
   },
   "file_extension": ".py",
   "mimetype": "text/x-python",
   "name": "python",
   "nbconvert_exporter": "python",
   "pygments_lexer": "ipython3",
   "version": "3.12.4"
  }
 },
 "nbformat": 4,
 "nbformat_minor": 2
}
